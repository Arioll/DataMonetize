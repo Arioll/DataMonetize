{
 "cells": [
  {
   "cell_type": "code",
   "execution_count": null,
   "metadata": {},
   "outputs": [],
   "source": [
    "import pandas as pd\n",
    "import seaborn as sns\n",
    "import numpy as np\n",
    "import datetime as dt\n",
    "\n",
    "purchases = pd.read_csv('../DATA/purchases.csv.gzip', compression = 'gzip')\n",
    "\n",
    "products = pd.read_csv('../DATA/products.csv')\n",
    "\n",
    "purchases = purchases.merge(products, how = 'left', on = 'product_id')\n",
    "\n",
    "%%time\n",
    "pivot_table = pd.pivot_table(purchases, \n",
    "                             values='product_quantity', \n",
    "                             index=['num_transaction_id', \n",
    "                                    'transaction_datetime',\n",
    "                                    'num_client_id'], \n",
    "                             columns = ['level_2'],\n",
    "                             aggfunc = np.sum).fillna(0).reset_index()\n",
    "\n",
    "pivot_table['transaction_datetime'] = pivot_table['transaction_datetime'].apply(lambda x: dt.datetime.strptime(x, '%Y-%m-%d %H:%M:%S'))\n",
    "pivot_table = pivot_table.set_index('transaction_datetime')\n",
    "\n",
    "pivot_table.to_pickle('pivot.pickle')\n",
    "\n",
    "%%time\n",
    "target = pivot_table[['num_client_id', 'fb3d79909eb455c6cd6183b956598a12']]\n",
    "\n",
    "target['target'] = target.groupby('num_client_id') \\\n",
    "                         .shift(-3) \\\n",
    "                         .rolling(3) \\\n",
    "                         .max() \n",
    "\n",
    "target['target'] = target['target'].astype(bool).astype(int)\n",
    "target = target.reset_index().drop(['fb3d79909eb455c6cd6183b956598a12'], axis = 1)\n",
    "\n",
    "target.to_pickle('../DATA/target_next.pickle')"
   ]
  }
 ],
 "metadata": {
  "kernelspec": {
   "display_name": "Python 3",
   "language": "python",
   "name": "python3"
  },
  "language_info": {
   "codemirror_mode": {
    "name": "ipython",
    "version": 3
   },
   "file_extension": ".py",
   "mimetype": "text/x-python",
   "name": "python",
   "nbconvert_exporter": "python",
   "pygments_lexer": "ipython3",
   "version": "3.7.6"
  }
 },
 "nbformat": 4,
 "nbformat_minor": 4
}
