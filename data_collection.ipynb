{
 "cells": [
  {
   "cell_type": "code",
   "execution_count": null,
   "metadata": {},
   "outputs": [],
   "source": [
    "import pandas as pd\n",
    "\n",
    "test = pd.read_parquet('purchases.parquet', engine = 'pyarrow')\n",
    "\n",
    "important = ['client_id' \n",
    "             ,'store_id'\n",
    "             ,'product_id'\n",
    "             ,'transaction_id'\n",
    "             ,'transaction_datetime'\n",
    "             ,'purchase_sum'\n",
    "             ,'product_quantity'\n",
    "            ]\n",
    "\n",
    "test = test[important]\n",
    "\n",
    "num_clients = pd.DataFrame(test.client_id.unique(), \n",
    "                           columns = ['client_id']) \\\n",
    "                .reset_index() \\\n",
    "                .rename({'index' : 'num_client_id'}, axis = 1)\n",
    "num_clients.num_client_id = num_clients.num_client_id + 1001000000\n",
    "\n",
    "\n",
    "num_stores = pd.DataFrame(test.store_id.unique(), \n",
    "                           columns = ['store_id']) \\\n",
    "                .reset_index() \\\n",
    "                .rename({'index' : 'num_store_id'}, axis = 1)\n",
    "num_stores.num_store_id = num_stores.num_store_id + 10001000000\n",
    "\n",
    "\n",
    "num_products = pd.DataFrame(test.product_id.unique(), \n",
    "                           columns = ['product_id']) \\\n",
    "                .reset_index() \\\n",
    "                .rename({'index' : 'num_product_id'}, axis = 1)\n",
    "num_products.num_product_id = num_products.num_product_id + 1010000000\n",
    "\n",
    "\n",
    "num_transactions = pd.DataFrame(test.transaction_id.unique(), \n",
    "                           columns = ['transaction_id']) \\\n",
    "                .reset_index() \\\n",
    "                .rename({'index' : 'num_transaction_id'}, axis = 1)\n",
    "\n",
    "\n",
    "test = test.merge(num_clients, how = 'left', on = 'client_id').drop(['client_id'], axis = 1) \\\n",
    "           .merge(num_stores, how = 'left', on = 'store_id').drop(['store_id'], axis = 1) \\\n",
    "           .merge(num_products, how = 'left', on = 'product_id') \\\n",
    "           .merge(num_transactions, how = 'left', on = 'transaction_id').drop(['transaction_id'], axis = 1)\n",
    "\n",
    "test.to_csv('purchases.csv.gzip', index = False, compression = 'gzip')"
   ]
  }
 ],
 "metadata": {
  "kernelspec": {
   "display_name": "Python 3",
   "language": "python",
   "name": "python3"
  },
  "language_info": {
   "codemirror_mode": {
    "name": "ipython",
    "version": 3
   },
   "file_extension": ".py",
   "mimetype": "text/x-python",
   "name": "python",
   "nbconvert_exporter": "python",
   "pygments_lexer": "ipython3",
   "version": "3.7.6"
  }
 },
 "nbformat": 4,
 "nbformat_minor": 4
}
