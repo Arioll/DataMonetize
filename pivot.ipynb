{
 "cells": [
  {
   "cell_type": "code",
   "execution_count": null,
   "metadata": {},
   "outputs": [],
   "source": [
    "import pandas as pd\n",
    "import os\n",
    "import numpy as np\n",
    "\n",
    "os.chdir('/home')\n",
    "\n",
    "df = pd.read_csv('kirill/DATA/purchases.csv.gzip',compression='gzip')\n",
    "\n",
    "prod = pd.read_csv('kirill/DATA/products.csv')\n",
    "\n",
    "df=df.merge(prod[['product_id','level_2']], left_on='product_id', right_on='product_id')\n",
    "\n",
    "df.drop(['level_3'],axis=1, inplace=True)\n",
    "\n",
    "del prod\n",
    "\n",
    "prod.head()\n",
    "\n"
   ]
  },
  {
   "cell_type": "markdown",
   "metadata": {},
   "source": [
    "pivot table\n",
    "- в котором строка - это client_id, transaction_id, transaction_datetime \n",
    "- а колонки - это категории level_3\n",
    "- Агрегация по количеству product_quantity"
   ]
  },
  {
   "cell_type": "code",
   "execution_count": null,
   "metadata": {},
   "outputs": [],
   "source": [
    "table = pd.pivot_table(df, index=['num_client_id', 'num_transaction_id', 'transaction_datetime'], \n",
    "                       columns=['level_2'],\n",
    "                       values='product_quantity',\n",
    "                       aggfunc=np.sum).fillna(0).reset_index()\n",
    "\n",
    "df[df.level_3=='066f531e42efd71b2a784d4689f47570']\n",
    "\n",
    "table.to_csv('kirill/DATA/pivot_2.csv.gzip',compression='gzip')"
   ]
  }
 ],
 "metadata": {
  "kernelspec": {
   "display_name": "Python 3",
   "language": "python",
   "name": "python3"
  },
  "language_info": {
   "codemirror_mode": {
    "name": "ipython",
    "version": 3
   },
   "file_extension": ".py",
   "mimetype": "text/x-python",
   "name": "python",
   "nbconvert_exporter": "python",
   "pygments_lexer": "ipython3",
   "version": "3.7.3"
  }
 },
 "nbformat": 4,
 "nbformat_minor": 2
}
